{
 "cells": [
  {
   "cell_type": "code",
   "execution_count": 1,
   "metadata": {
    "_cell_guid": "b1076dfc-b9ad-4769-8c92-a6c4dae69d19",
    "_uuid": "8f2839f25d086af736a60e9eeb907d3b93b6e0e5",
    "execution": {
     "iopub.execute_input": "2024-07-12T15:53:54.162592Z",
     "iopub.status.busy": "2024-07-12T15:53:54.161996Z",
     "iopub.status.idle": "2024-07-12T15:53:54.538612Z",
     "shell.execute_reply": "2024-07-12T15:53:54.537667Z",
     "shell.execute_reply.started": "2024-07-12T15:53:54.162555Z"
    }
   },
   "outputs": [
    {
     "name": "stdout",
     "output_type": "stream",
     "text": [
      "/kaggle/input/quora-question-pairs/train.csv.zip\n",
      "/kaggle/input/quora-question-pairs/sample_submission.csv.zip\n",
      "/kaggle/input/quora-question-pairs/test.csv\n",
      "/kaggle/input/quora-question-pairs/test.csv.zip\n"
     ]
    }
   ],
   "source": [
    "# This Python 3 environment comes with many helpful analytics libraries installed\n",
    "# It is defined by the kaggle/python Docker image: https://github.com/kaggle/docker-python\n",
    "# For example, here's several helpful packages to load\n",
    "\n",
    "import numpy as np # linear algebra\n",
    "import pandas as pd # data processing, CSV file I/O (e.g. pd.read_csv)\n",
    "\n",
    "# Input data files are available in the read-only \"../input/\" directory\n",
    "# For example, running this (by clicking run or pressing Shift+Enter) will list all files under the input directory\n",
    "\n",
    "import os\n",
    "for dirname, _, filenames in os.walk('/kaggle/input'):\n",
    "    for filename in filenames:\n",
    "        print(os.path.join(dirname, filename))\n",
    "\n",
    "# You can write up to 20GB to the current directory (/kaggle/working/) that gets preserved as output when you create a version using \"Save & Run All\" \n",
    "# You can also write temporary files to /kaggle/temp/, but they won't be saved outside of the current session"
   ]
  },
  {
   "cell_type": "code",
   "execution_count": 2,
   "metadata": {
    "execution": {
     "iopub.execute_input": "2024-07-12T15:53:54.540095Z",
     "iopub.status.busy": "2024-07-12T15:53:54.539712Z",
     "iopub.status.idle": "2024-07-12T15:55:28.708274Z",
     "shell.execute_reply": "2024-07-12T15:55:28.707142Z",
     "shell.execute_reply.started": "2024-07-12T15:53:54.540068Z"
    }
   },
   "outputs": [
    {
     "name": "stdout",
     "output_type": "stream",
     "text": [
      "Found existing installation: tensorflow 2.15.0\n",
      "Uninstalling tensorflow-2.15.0:\n",
      "  Successfully uninstalled tensorflow-2.15.0\n",
      "\u001b[33mWARNING: Skipping tensorflow as it is not installed.\u001b[0m\u001b[33m\n",
      "\u001b[0mFound existing installation: ml-dtypes 0.2.0\n",
      "Uninstalling ml-dtypes-0.2.0:\n",
      "  Successfully uninstalled ml-dtypes-0.2.0\n",
      "Collecting tensorflow==2.15.0\n",
      "  Downloading tensorflow-2.15.0-cp310-cp310-manylinux_2_17_x86_64.manylinux2014_x86_64.whl.metadata (4.4 kB)\n",
      "Requirement already satisfied: absl-py>=1.0.0 in /opt/conda/lib/python3.10/site-packages (from tensorflow==2.15.0) (1.4.0)\n",
      "Requirement already satisfied: astunparse>=1.6.0 in /opt/conda/lib/python3.10/site-packages (from tensorflow==2.15.0) (1.6.3)\n",
      "Requirement already satisfied: flatbuffers>=23.5.26 in /opt/conda/lib/python3.10/site-packages (from tensorflow==2.15.0) (23.5.26)\n",
      "Requirement already satisfied: gast!=0.5.0,!=0.5.1,!=0.5.2,>=0.2.1 in /opt/conda/lib/python3.10/site-packages (from tensorflow==2.15.0) (0.5.4)\n",
      "Requirement already satisfied: google-pasta>=0.1.1 in /opt/conda/lib/python3.10/site-packages (from tensorflow==2.15.0) (0.2.0)\n",
      "Requirement already satisfied: h5py>=2.9.0 in /opt/conda/lib/python3.10/site-packages (from tensorflow==2.15.0) (3.10.0)\n",
      "Requirement already satisfied: libclang>=13.0.0 in /opt/conda/lib/python3.10/site-packages (from tensorflow==2.15.0) (16.0.6)\n",
      "Collecting ml-dtypes~=0.2.0 (from tensorflow==2.15.0)\n",
      "  Downloading ml_dtypes-0.2.0-cp310-cp310-manylinux_2_17_x86_64.manylinux2014_x86_64.whl.metadata (20 kB)\n",
      "Requirement already satisfied: numpy<2.0.0,>=1.23.5 in /opt/conda/lib/python3.10/site-packages (from tensorflow==2.15.0) (1.26.4)\n",
      "Requirement already satisfied: opt-einsum>=2.3.2 in /opt/conda/lib/python3.10/site-packages (from tensorflow==2.15.0) (3.3.0)\n",
      "Requirement already satisfied: packaging in /opt/conda/lib/python3.10/site-packages (from tensorflow==2.15.0) (21.3)\n",
      "Requirement already satisfied: protobuf!=4.21.0,!=4.21.1,!=4.21.2,!=4.21.3,!=4.21.4,!=4.21.5,<5.0.0dev,>=3.20.3 in /opt/conda/lib/python3.10/site-packages (from tensorflow==2.15.0) (3.20.3)\n",
      "Requirement already satisfied: setuptools in /opt/conda/lib/python3.10/site-packages (from tensorflow==2.15.0) (69.0.3)\n",
      "Requirement already satisfied: six>=1.12.0 in /opt/conda/lib/python3.10/site-packages (from tensorflow==2.15.0) (1.16.0)\n",
      "Requirement already satisfied: termcolor>=1.1.0 in /opt/conda/lib/python3.10/site-packages (from tensorflow==2.15.0) (2.4.0)\n",
      "Requirement already satisfied: typing-extensions>=3.6.6 in /opt/conda/lib/python3.10/site-packages (from tensorflow==2.15.0) (4.9.0)\n",
      "Requirement already satisfied: wrapt<1.15,>=1.11.0 in /opt/conda/lib/python3.10/site-packages (from tensorflow==2.15.0) (1.14.1)\n",
      "Requirement already satisfied: tensorflow-io-gcs-filesystem>=0.23.1 in /opt/conda/lib/python3.10/site-packages (from tensorflow==2.15.0) (0.35.0)\n",
      "Requirement already satisfied: grpcio<2.0,>=1.24.3 in /opt/conda/lib/python3.10/site-packages (from tensorflow==2.15.0) (1.59.3)\n",
      "Requirement already satisfied: tensorboard<2.16,>=2.15 in /opt/conda/lib/python3.10/site-packages (from tensorflow==2.15.0) (2.15.1)\n",
      "Requirement already satisfied: tensorflow-estimator<2.16,>=2.15.0 in /opt/conda/lib/python3.10/site-packages (from tensorflow==2.15.0) (2.15.0)\n",
      "Collecting keras<2.16,>=2.15.0 (from tensorflow==2.15.0)\n",
      "  Downloading keras-2.15.0-py3-none-any.whl.metadata (2.4 kB)\n",
      "Requirement already satisfied: wheel<1.0,>=0.23.0 in /opt/conda/lib/python3.10/site-packages (from astunparse>=1.6.0->tensorflow==2.15.0) (0.42.0)\n",
      "Requirement already satisfied: google-auth<3,>=1.6.3 in /opt/conda/lib/python3.10/site-packages (from tensorboard<2.16,>=2.15->tensorflow==2.15.0) (2.26.1)\n",
      "Requirement already satisfied: google-auth-oauthlib<2,>=0.5 in /opt/conda/lib/python3.10/site-packages (from tensorboard<2.16,>=2.15->tensorflow==2.15.0) (1.2.0)\n",
      "Requirement already satisfied: markdown>=2.6.8 in /opt/conda/lib/python3.10/site-packages (from tensorboard<2.16,>=2.15->tensorflow==2.15.0) (3.5.2)\n",
      "Requirement already satisfied: requests<3,>=2.21.0 in /opt/conda/lib/python3.10/site-packages (from tensorboard<2.16,>=2.15->tensorflow==2.15.0) (2.32.3)\n",
      "Requirement already satisfied: tensorboard-data-server<0.8.0,>=0.7.0 in /opt/conda/lib/python3.10/site-packages (from tensorboard<2.16,>=2.15->tensorflow==2.15.0) (0.7.2)\n",
      "Requirement already satisfied: werkzeug>=1.0.1 in /opt/conda/lib/python3.10/site-packages (from tensorboard<2.16,>=2.15->tensorflow==2.15.0) (3.0.3)\n",
      "Requirement already satisfied: pyparsing!=3.0.5,>=2.0.2 in /opt/conda/lib/python3.10/site-packages (from packaging->tensorflow==2.15.0) (3.1.1)\n",
      "Requirement already satisfied: cachetools<6.0,>=2.0.0 in /opt/conda/lib/python3.10/site-packages (from google-auth<3,>=1.6.3->tensorboard<2.16,>=2.15->tensorflow==2.15.0) (4.2.4)\n",
      "Requirement already satisfied: pyasn1-modules>=0.2.1 in /opt/conda/lib/python3.10/site-packages (from google-auth<3,>=1.6.3->tensorboard<2.16,>=2.15->tensorflow==2.15.0) (0.3.0)\n",
      "Requirement already satisfied: rsa<5,>=3.1.4 in /opt/conda/lib/python3.10/site-packages (from google-auth<3,>=1.6.3->tensorboard<2.16,>=2.15->tensorflow==2.15.0) (4.9)\n",
      "Requirement already satisfied: requests-oauthlib>=0.7.0 in /opt/conda/lib/python3.10/site-packages (from google-auth-oauthlib<2,>=0.5->tensorboard<2.16,>=2.15->tensorflow==2.15.0) (1.3.1)\n",
      "Requirement already satisfied: charset-normalizer<4,>=2 in /opt/conda/lib/python3.10/site-packages (from requests<3,>=2.21.0->tensorboard<2.16,>=2.15->tensorflow==2.15.0) (3.3.2)\n",
      "Requirement already satisfied: idna<4,>=2.5 in /opt/conda/lib/python3.10/site-packages (from requests<3,>=2.21.0->tensorboard<2.16,>=2.15->tensorflow==2.15.0) (3.6)\n",
      "Requirement already satisfied: urllib3<3,>=1.21.1 in /opt/conda/lib/python3.10/site-packages (from requests<3,>=2.21.0->tensorboard<2.16,>=2.15->tensorflow==2.15.0) (1.26.18)\n",
      "Requirement already satisfied: certifi>=2017.4.17 in /opt/conda/lib/python3.10/site-packages (from requests<3,>=2.21.0->tensorboard<2.16,>=2.15->tensorflow==2.15.0) (2024.2.2)\n",
      "Requirement already satisfied: MarkupSafe>=2.1.1 in /opt/conda/lib/python3.10/site-packages (from werkzeug>=1.0.1->tensorboard<2.16,>=2.15->tensorflow==2.15.0) (2.1.3)\n",
      "Requirement already satisfied: pyasn1<0.6.0,>=0.4.6 in /opt/conda/lib/python3.10/site-packages (from pyasn1-modules>=0.2.1->google-auth<3,>=1.6.3->tensorboard<2.16,>=2.15->tensorflow==2.15.0) (0.5.1)\n",
      "Requirement already satisfied: oauthlib>=3.0.0 in /opt/conda/lib/python3.10/site-packages (from requests-oauthlib>=0.7.0->google-auth-oauthlib<2,>=0.5->tensorboard<2.16,>=2.15->tensorflow==2.15.0) (3.2.2)\n",
      "Downloading tensorflow-2.15.0-cp310-cp310-manylinux_2_17_x86_64.manylinux2014_x86_64.whl (475.2 MB)\n",
      "\u001b[2K   \u001b[90m━━━━━━━━━━━━━━━━━━━━━━━━━━━━━━━━━━━━━━━━\u001b[0m \u001b[32m475.2/475.2 MB\u001b[0m \u001b[31m3.3 MB/s\u001b[0m eta \u001b[36m0:00:00\u001b[0m:00:01\u001b[0m00:01\u001b[0m\n",
      "\u001b[?25hDownloading keras-2.15.0-py3-none-any.whl (1.7 MB)\n",
      "\u001b[2K   \u001b[90m━━━━━━━━━━━━━━━━━━━━━━━━━━━━━━━━━━━━━━━━\u001b[0m \u001b[32m1.7/1.7 MB\u001b[0m \u001b[31m35.1 MB/s\u001b[0m eta \u001b[36m0:00:00\u001b[0m:00:01\u001b[0m\n",
      "\u001b[?25hDownloading ml_dtypes-0.2.0-cp310-cp310-manylinux_2_17_x86_64.manylinux2014_x86_64.whl (1.0 MB)\n",
      "\u001b[2K   \u001b[90m━━━━━━━━━━━━━━━━━━━━━━━━━━━━━━━━━━━━━━━━\u001b[0m \u001b[32m1.0/1.0 MB\u001b[0m \u001b[31m27.0 MB/s\u001b[0m eta \u001b[36m0:00:00\u001b[0m:00:01\u001b[0m\n",
      "\u001b[?25hInstalling collected packages: ml-dtypes, keras, tensorflow\n",
      "  Attempting uninstall: keras\n",
      "    Found existing installation: keras 3.3.3\n",
      "    Uninstalling keras-3.3.3:\n",
      "      Successfully uninstalled keras-3.3.3\n",
      "\u001b[31mERROR: pip's dependency resolver does not currently take into account all the packages that are installed. This behaviour is the source of the following dependency conflicts.\n",
      "tensorflow-decision-forests 1.8.1 requires wurlitzer, which is not installed.\n",
      "tensorstore 0.1.60 requires ml-dtypes>=0.3.1, but you have ml-dtypes 0.2.0 which is incompatible.\u001b[0m\u001b[31m\n",
      "\u001b[0mSuccessfully installed keras-2.15.0 ml-dtypes-0.2.0 tensorflow-2.15.0\n"
     ]
    }
   ],
   "source": [
    "# Uninstall any existing TensorFlow version\n",
    "!pip uninstall -y tensorflow\n",
    "\n",
    "# Uninstall existing TensorFlow and ml-dtypes to avoid conflicts\n",
    "!pip uninstall -y tensorflow ml-dtypes\n",
    "\n",
    "# Install compatible TensorFlow version\n",
    "!pip install tensorflow==2.15.0\n",
    "\n",
    "# Install other dependencies\n",
    "!pip install tensorflow-decision-forests==1.8.1 tensorflow-text==2.15.0 tf-keras==2.15.1 wurlitzer ml-dtypes>=0.3.1\n"
   ]
  },
  {
   "cell_type": "code",
   "execution_count": 3,
   "metadata": {
    "execution": {
     "iopub.execute_input": "2024-07-12T15:55:28.710129Z",
     "iopub.status.busy": "2024-07-12T15:55:28.709799Z",
     "iopub.status.idle": "2024-07-12T15:55:32.280555Z",
     "shell.execute_reply": "2024-07-12T15:55:32.279516Z",
     "shell.execute_reply.started": "2024-07-12T15:55:28.710099Z"
    }
   },
   "outputs": [
    {
     "name": "stderr",
     "output_type": "stream",
     "text": [
      "2024-07-12 15:55:29.072475: E external/local_xla/xla/stream_executor/cuda/cuda_dnn.cc:9261] Unable to register cuDNN factory: Attempting to register factory for plugin cuDNN when one has already been registered\n",
      "2024-07-12 15:55:29.072525: E external/local_xla/xla/stream_executor/cuda/cuda_fft.cc:607] Unable to register cuFFT factory: Attempting to register factory for plugin cuFFT when one has already been registered\n",
      "2024-07-12 15:55:29.073915: E external/local_xla/xla/stream_executor/cuda/cuda_blas.cc:1515] Unable to register cuBLAS factory: Attempting to register factory for plugin cuBLAS when one has already been registered\n"
     ]
    },
    {
     "name": "stdout",
     "output_type": "stream",
     "text": [
      "Num GPUs Available:  2\n"
     ]
    }
   ],
   "source": [
    "# Verify GPU availability\n",
    "import tensorflow as tf\n",
    "\n",
    "print(\"Num GPUs Available: \", len(tf.config.list_physical_devices('GPU')))"
   ]
  },
  {
   "cell_type": "code",
   "execution_count": 4,
   "metadata": {
    "execution": {
     "iopub.execute_input": "2024-07-12T15:55:32.284248Z",
     "iopub.status.busy": "2024-07-12T15:55:32.283694Z",
     "iopub.status.idle": "2024-07-12T15:55:57.991494Z",
     "shell.execute_reply": "2024-07-12T15:55:57.990731Z",
     "shell.execute_reply.started": "2024-07-12T15:55:32.284218Z"
    }
   },
   "outputs": [],
   "source": [
    "## Importing the libraries\n",
    "import matplotlib.pyplot as plt\n",
    "import seaborn as sns\n",
    "\n",
    "import nltk\n",
    "import string\n",
    "import unicodedata\n",
    "import spacy\n",
    "\n",
    "import re\n",
    "from gensim.models import Word2Vec\n",
    "from sklearn.model_selection import train_test_split\n",
    "from sklearn.metrics import accuracy_score,f1_score,confusion_matrix,classification_report\n",
    "from warnings import filterwarnings\n",
    "filterwarnings('ignore')\n",
    "\n",
    "import tensorflow as tf\n",
    "from tensorflow.keras.models import Sequential\n",
    "from tensorflow.keras.layers import Dense, Flatten,Embedding\n",
    "from tensorflow.keras.utils import to_categorical\n",
    "\n",
    "from tensorflow.keras.preprocessing.text import Tokenizer\n",
    "from tensorflow.keras.preprocessing.sequence import pad_sequences"
   ]
  },
  {
   "cell_type": "code",
   "execution_count": 5,
   "metadata": {
    "execution": {
     "iopub.execute_input": "2024-07-12T15:55:57.993139Z",
     "iopub.status.busy": "2024-07-12T15:55:57.992581Z",
     "iopub.status.idle": "2024-07-12T15:55:59.511286Z",
     "shell.execute_reply": "2024-07-12T15:55:59.510275Z",
     "shell.execute_reply.started": "2024-07-12T15:55:57.993110Z"
    }
   },
   "outputs": [],
   "source": [
    "df = pd.read_csv('/kaggle/input/quora-question-pairs/train.csv.zip')"
   ]
  },
  {
   "cell_type": "code",
   "execution_count": 6,
   "metadata": {
    "execution": {
     "iopub.execute_input": "2024-07-12T15:55:59.512820Z",
     "iopub.status.busy": "2024-07-12T15:55:59.512529Z",
     "iopub.status.idle": "2024-07-12T15:55:59.519839Z",
     "shell.execute_reply": "2024-07-12T15:55:59.519018Z",
     "shell.execute_reply.started": "2024-07-12T15:55:59.512795Z"
    }
   },
   "outputs": [
    {
     "data": {
      "text/plain": [
       "(404290, 6)"
      ]
     },
     "execution_count": 6,
     "metadata": {},
     "output_type": "execute_result"
    }
   ],
   "source": [
    "df.shape"
   ]
  },
  {
   "cell_type": "code",
   "execution_count": 7,
   "metadata": {
    "execution": {
     "iopub.execute_input": "2024-07-12T15:55:59.521796Z",
     "iopub.status.busy": "2024-07-12T15:55:59.521444Z",
     "iopub.status.idle": "2024-07-12T15:55:59.538779Z",
     "shell.execute_reply": "2024-07-12T15:55:59.537826Z",
     "shell.execute_reply.started": "2024-07-12T15:55:59.521765Z"
    }
   },
   "outputs": [
    {
     "data": {
      "text/html": [
       "<div>\n",
       "<style scoped>\n",
       "    .dataframe tbody tr th:only-of-type {\n",
       "        vertical-align: middle;\n",
       "    }\n",
       "\n",
       "    .dataframe tbody tr th {\n",
       "        vertical-align: top;\n",
       "    }\n",
       "\n",
       "    .dataframe thead th {\n",
       "        text-align: right;\n",
       "    }\n",
       "</style>\n",
       "<table border=\"1\" class=\"dataframe\">\n",
       "  <thead>\n",
       "    <tr style=\"text-align: right;\">\n",
       "      <th></th>\n",
       "      <th>id</th>\n",
       "      <th>qid1</th>\n",
       "      <th>qid2</th>\n",
       "      <th>question1</th>\n",
       "      <th>question2</th>\n",
       "      <th>is_duplicate</th>\n",
       "    </tr>\n",
       "  </thead>\n",
       "  <tbody>\n",
       "    <tr>\n",
       "      <th>0</th>\n",
       "      <td>0</td>\n",
       "      <td>1</td>\n",
       "      <td>2</td>\n",
       "      <td>What is the step by step guide to invest in sh...</td>\n",
       "      <td>What is the step by step guide to invest in sh...</td>\n",
       "      <td>0</td>\n",
       "    </tr>\n",
       "    <tr>\n",
       "      <th>1</th>\n",
       "      <td>1</td>\n",
       "      <td>3</td>\n",
       "      <td>4</td>\n",
       "      <td>What is the story of Kohinoor (Koh-i-Noor) Dia...</td>\n",
       "      <td>What would happen if the Indian government sto...</td>\n",
       "      <td>0</td>\n",
       "    </tr>\n",
       "    <tr>\n",
       "      <th>2</th>\n",
       "      <td>2</td>\n",
       "      <td>5</td>\n",
       "      <td>6</td>\n",
       "      <td>How can I increase the speed of my internet co...</td>\n",
       "      <td>How can Internet speed be increased by hacking...</td>\n",
       "      <td>0</td>\n",
       "    </tr>\n",
       "    <tr>\n",
       "      <th>3</th>\n",
       "      <td>3</td>\n",
       "      <td>7</td>\n",
       "      <td>8</td>\n",
       "      <td>Why am I mentally very lonely? How can I solve...</td>\n",
       "      <td>Find the remainder when [math]23^{24}[/math] i...</td>\n",
       "      <td>0</td>\n",
       "    </tr>\n",
       "    <tr>\n",
       "      <th>4</th>\n",
       "      <td>4</td>\n",
       "      <td>9</td>\n",
       "      <td>10</td>\n",
       "      <td>Which one dissolve in water quikly sugar, salt...</td>\n",
       "      <td>Which fish would survive in salt water?</td>\n",
       "      <td>0</td>\n",
       "    </tr>\n",
       "  </tbody>\n",
       "</table>\n",
       "</div>"
      ],
      "text/plain": [
       "   id  qid1  qid2                                          question1  \\\n",
       "0   0     1     2  What is the step by step guide to invest in sh...   \n",
       "1   1     3     4  What is the story of Kohinoor (Koh-i-Noor) Dia...   \n",
       "2   2     5     6  How can I increase the speed of my internet co...   \n",
       "3   3     7     8  Why am I mentally very lonely? How can I solve...   \n",
       "4   4     9    10  Which one dissolve in water quikly sugar, salt...   \n",
       "\n",
       "                                           question2  is_duplicate  \n",
       "0  What is the step by step guide to invest in sh...             0  \n",
       "1  What would happen if the Indian government sto...             0  \n",
       "2  How can Internet speed be increased by hacking...             0  \n",
       "3  Find the remainder when [math]23^{24}[/math] i...             0  \n",
       "4            Which fish would survive in salt water?             0  "
      ]
     },
     "execution_count": 7,
     "metadata": {},
     "output_type": "execute_result"
    }
   ],
   "source": [
    "df.head()"
   ]
  },
  {
   "cell_type": "code",
   "execution_count": 8,
   "metadata": {
    "execution": {
     "iopub.execute_input": "2024-07-12T15:55:59.540430Z",
     "iopub.status.busy": "2024-07-12T15:55:59.540088Z",
     "iopub.status.idle": "2024-07-12T15:55:59.544748Z",
     "shell.execute_reply": "2024-07-12T15:55:59.543844Z",
     "shell.execute_reply.started": "2024-07-12T15:55:59.540404Z"
    }
   },
   "outputs": [],
   "source": [
    "#df_test = pd.read_csv('/kaggle/input/quora-question-pairs/test.csv.zip')"
   ]
  },
  {
   "cell_type": "code",
   "execution_count": 9,
   "metadata": {
    "execution": {
     "iopub.execute_input": "2024-07-12T15:55:59.546018Z",
     "iopub.status.busy": "2024-07-12T15:55:59.545739Z",
     "iopub.status.idle": "2024-07-12T15:55:59.594307Z",
     "shell.execute_reply": "2024-07-12T15:55:59.593423Z",
     "shell.execute_reply.started": "2024-07-12T15:55:59.545995Z"
    }
   },
   "outputs": [
    {
     "data": {
      "text/html": [
       "<div>\n",
       "<style scoped>\n",
       "    .dataframe tbody tr th:only-of-type {\n",
       "        vertical-align: middle;\n",
       "    }\n",
       "\n",
       "    .dataframe tbody tr th {\n",
       "        vertical-align: top;\n",
       "    }\n",
       "\n",
       "    .dataframe thead th {\n",
       "        text-align: right;\n",
       "    }\n",
       "</style>\n",
       "<table border=\"1\" class=\"dataframe\">\n",
       "  <thead>\n",
       "    <tr style=\"text-align: right;\">\n",
       "      <th></th>\n",
       "      <th>id</th>\n",
       "      <th>qid1</th>\n",
       "      <th>qid2</th>\n",
       "      <th>question1</th>\n",
       "      <th>question2</th>\n",
       "      <th>is_duplicate</th>\n",
       "    </tr>\n",
       "  </thead>\n",
       "  <tbody>\n",
       "    <tr>\n",
       "      <th>398782</th>\n",
       "      <td>398782</td>\n",
       "      <td>496695</td>\n",
       "      <td>532029</td>\n",
       "      <td>What is the best marketing automation tool for...</td>\n",
       "      <td>What is the best marketing automation tool for...</td>\n",
       "      <td>1</td>\n",
       "    </tr>\n",
       "    <tr>\n",
       "      <th>115086</th>\n",
       "      <td>115086</td>\n",
       "      <td>187729</td>\n",
       "      <td>187730</td>\n",
       "      <td>I am poor but I want to invest. What should I do?</td>\n",
       "      <td>I am quite poor and I want to be very rich. Wh...</td>\n",
       "      <td>0</td>\n",
       "    </tr>\n",
       "    <tr>\n",
       "      <th>327711</th>\n",
       "      <td>327711</td>\n",
       "      <td>454161</td>\n",
       "      <td>454162</td>\n",
       "      <td>I am from India and live abroad. I met a guy f...</td>\n",
       "      <td>T.I.E.T to Thapar University to Thapar Univers...</td>\n",
       "      <td>0</td>\n",
       "    </tr>\n",
       "    <tr>\n",
       "      <th>367788</th>\n",
       "      <td>367788</td>\n",
       "      <td>498109</td>\n",
       "      <td>491396</td>\n",
       "      <td>Why do so many people in the U.S. hate the sou...</td>\n",
       "      <td>My boyfriend doesnt feel guilty when he hurts ...</td>\n",
       "      <td>0</td>\n",
       "    </tr>\n",
       "    <tr>\n",
       "      <th>151235</th>\n",
       "      <td>151235</td>\n",
       "      <td>237843</td>\n",
       "      <td>50930</td>\n",
       "      <td>Consequences of Bhopal gas tragedy?</td>\n",
       "      <td>What was the reason behind the Bhopal gas trag...</td>\n",
       "      <td>0</td>\n",
       "    </tr>\n",
       "    <tr>\n",
       "      <th>...</th>\n",
       "      <td>...</td>\n",
       "      <td>...</td>\n",
       "      <td>...</td>\n",
       "      <td>...</td>\n",
       "      <td>...</td>\n",
       "      <td>...</td>\n",
       "    </tr>\n",
       "    <tr>\n",
       "      <th>147622</th>\n",
       "      <td>147622</td>\n",
       "      <td>185363</td>\n",
       "      <td>232946</td>\n",
       "      <td>Why do you live a life?</td>\n",
       "      <td>Why do people live? What is reason for you to ...</td>\n",
       "      <td>1</td>\n",
       "    </tr>\n",
       "    <tr>\n",
       "      <th>353951</th>\n",
       "      <td>353951</td>\n",
       "      <td>23995</td>\n",
       "      <td>483033</td>\n",
       "      <td>Why are Golden Retriever dogs with blue eyes s...</td>\n",
       "      <td>How do I train Golden Retriever dogs with blue...</td>\n",
       "      <td>0</td>\n",
       "    </tr>\n",
       "    <tr>\n",
       "      <th>251765</th>\n",
       "      <td>251765</td>\n",
       "      <td>177088</td>\n",
       "      <td>357433</td>\n",
       "      <td>How do I learn computer practically?</td>\n",
       "      <td>What is the best way to learn computer languages?</td>\n",
       "      <td>0</td>\n",
       "    </tr>\n",
       "    <tr>\n",
       "      <th>150383</th>\n",
       "      <td>150383</td>\n",
       "      <td>221786</td>\n",
       "      <td>236690</td>\n",
       "      <td>I want to start a new business in India (appro...</td>\n",
       "      <td>What are some good ideas for small industries ...</td>\n",
       "      <td>0</td>\n",
       "    </tr>\n",
       "    <tr>\n",
       "      <th>165218</th>\n",
       "      <td>165218</td>\n",
       "      <td>256600</td>\n",
       "      <td>256601</td>\n",
       "      <td>How do I become successful in medical insuranc...</td>\n",
       "      <td>How can I be productive in insurance sales?</td>\n",
       "      <td>0</td>\n",
       "    </tr>\n",
       "  </tbody>\n",
       "</table>\n",
       "<p>100000 rows × 6 columns</p>\n",
       "</div>"
      ],
      "text/plain": [
       "            id    qid1    qid2  \\\n",
       "398782  398782  496695  532029   \n",
       "115086  115086  187729  187730   \n",
       "327711  327711  454161  454162   \n",
       "367788  367788  498109  491396   \n",
       "151235  151235  237843   50930   \n",
       "...        ...     ...     ...   \n",
       "147622  147622  185363  232946   \n",
       "353951  353951   23995  483033   \n",
       "251765  251765  177088  357433   \n",
       "150383  150383  221786  236690   \n",
       "165218  165218  256600  256601   \n",
       "\n",
       "                                                question1  \\\n",
       "398782  What is the best marketing automation tool for...   \n",
       "115086  I am poor but I want to invest. What should I do?   \n",
       "327711  I am from India and live abroad. I met a guy f...   \n",
       "367788  Why do so many people in the U.S. hate the sou...   \n",
       "151235                Consequences of Bhopal gas tragedy?   \n",
       "...                                                   ...   \n",
       "147622                            Why do you live a life?   \n",
       "353951  Why are Golden Retriever dogs with blue eyes s...   \n",
       "251765               How do I learn computer practically?   \n",
       "150383  I want to start a new business in India (appro...   \n",
       "165218  How do I become successful in medical insuranc...   \n",
       "\n",
       "                                                question2  is_duplicate  \n",
       "398782  What is the best marketing automation tool for...             1  \n",
       "115086  I am quite poor and I want to be very rich. Wh...             0  \n",
       "327711  T.I.E.T to Thapar University to Thapar Univers...             0  \n",
       "367788  My boyfriend doesnt feel guilty when he hurts ...             0  \n",
       "151235  What was the reason behind the Bhopal gas trag...             0  \n",
       "...                                                   ...           ...  \n",
       "147622  Why do people live? What is reason for you to ...             1  \n",
       "353951  How do I train Golden Retriever dogs with blue...             0  \n",
       "251765  What is the best way to learn computer languages?             0  \n",
       "150383  What are some good ideas for small industries ...             0  \n",
       "165218        How can I be productive in insurance sales?             0  \n",
       "\n",
       "[100000 rows x 6 columns]"
      ]
     },
     "execution_count": 9,
     "metadata": {},
     "output_type": "execute_result"
    }
   ],
   "source": [
    "df_sample = df.sample(100000,random_state=2)\n",
    "df_sample"
   ]
  },
  {
   "cell_type": "code",
   "execution_count": 10,
   "metadata": {
    "execution": {
     "iopub.execute_input": "2024-07-12T15:55:59.595869Z",
     "iopub.status.busy": "2024-07-12T15:55:59.595533Z",
     "iopub.status.idle": "2024-07-12T15:55:59.629397Z",
     "shell.execute_reply": "2024-07-12T15:55:59.628413Z",
     "shell.execute_reply.started": "2024-07-12T15:55:59.595837Z"
    }
   },
   "outputs": [
    {
     "data": {
      "text/plain": [
       "id              0\n",
       "qid1            0\n",
       "qid2            0\n",
       "question1       0\n",
       "question2       1\n",
       "is_duplicate    0\n",
       "dtype: int64"
      ]
     },
     "execution_count": 10,
     "metadata": {},
     "output_type": "execute_result"
    }
   ],
   "source": [
    "df_sample.isnull().sum()"
   ]
  },
  {
   "cell_type": "code",
   "execution_count": 11,
   "metadata": {
    "execution": {
     "iopub.execute_input": "2024-07-12T15:55:59.631196Z",
     "iopub.status.busy": "2024-07-12T15:55:59.630818Z",
     "iopub.status.idle": "2024-07-12T15:55:59.673251Z",
     "shell.execute_reply": "2024-07-12T15:55:59.672458Z",
     "shell.execute_reply.started": "2024-07-12T15:55:59.631163Z"
    }
   },
   "outputs": [],
   "source": [
    "df_sample = df_sample.dropna()"
   ]
  },
  {
   "cell_type": "markdown",
   "metadata": {},
   "source": [
    "#### Step-by-Step Process\n",
    "1. Data Preparation: Load and preprocess the data.\n",
    "2. Text Vectorization: Convert text to numerical representations.\n",
    "3. Model Building: Create models using Simple RNN, LSTM, and GRU.\n",
    "4. Model Training: Train the models.\n",
    "5. Model Evaluation: Evaluate the models."
   ]
  },
  {
   "cell_type": "markdown",
   "metadata": {},
   "source": [
    "### Text Preprocessing and Vectorization\n",
    "\n",
    "- We'll use Tokenizer and pad_sequences from Keras to preprocess and vectorize the text."
   ]
  },
  {
   "cell_type": "code",
   "execution_count": 12,
   "metadata": {
    "execution": {
     "iopub.execute_input": "2024-07-12T15:55:59.674897Z",
     "iopub.status.busy": "2024-07-12T15:55:59.674525Z",
     "iopub.status.idle": "2024-07-12T15:56:01.610609Z",
     "shell.execute_reply": "2024-07-12T15:56:01.609723Z",
     "shell.execute_reply.started": "2024-07-12T15:55:59.674864Z"
    }
   },
   "outputs": [],
   "source": [
    "# Define a preprocessing function\n",
    "def preprocess_text(text):\n",
    "    text = text.lower()\n",
    "    text = re.sub(r'\\s+', ' ', text)\n",
    "    text = re.sub(r'\\n', '', text)\n",
    "    text = re.sub(r'\\r', '', text)\n",
    "    return text\n",
    "\n",
    "\n",
    "# Apply preprocessing\n",
    "df_sample['question1_cleaned'] = df_sample['question1'].apply(preprocess_text)\n",
    "df_sample['question2_cleaned'] = df_sample['question2'].apply(preprocess_text)"
   ]
  },
  {
   "cell_type": "code",
   "execution_count": 13,
   "metadata": {
    "execution": {
     "iopub.execute_input": "2024-07-12T15:56:01.615137Z",
     "iopub.status.busy": "2024-07-12T15:56:01.614834Z",
     "iopub.status.idle": "2024-07-12T15:56:08.615719Z",
     "shell.execute_reply": "2024-07-12T15:56:08.614924Z",
     "shell.execute_reply.started": "2024-07-12T15:56:01.615109Z"
    }
   },
   "outputs": [],
   "source": [
    "# Tokenize the questions\n",
    "tokenizer = Tokenizer()\n",
    "tokenizer.fit_on_texts(pd.concat([df_sample['question1_cleaned'], df_sample['question2_cleaned']]))\n",
    "\n",
    "# Convert text to sequences\n",
    "sequences_1 = tokenizer.texts_to_sequences(df_sample['question1_cleaned'])\n",
    "sequences_2 = tokenizer.texts_to_sequences(df_sample['question2_cleaned'])"
   ]
  },
  {
   "cell_type": "code",
   "execution_count": 14,
   "metadata": {
    "execution": {
     "iopub.execute_input": "2024-07-12T15:56:08.617054Z",
     "iopub.status.busy": "2024-07-12T15:56:08.616759Z",
     "iopub.status.idle": "2024-07-12T15:56:08.621240Z",
     "shell.execute_reply": "2024-07-12T15:56:08.620362Z",
     "shell.execute_reply.started": "2024-07-12T15:56:08.617028Z"
    }
   },
   "outputs": [],
   "source": [
    "# Vocabulary size\n",
    "vocab_size = len(tokenizer.word_index) + 1  # Adding 1 because indexing starts from 1"
   ]
  },
  {
   "cell_type": "code",
   "execution_count": 15,
   "metadata": {
    "execution": {
     "iopub.execute_input": "2024-07-12T15:56:08.622627Z",
     "iopub.status.busy": "2024-07-12T15:56:08.622368Z",
     "iopub.status.idle": "2024-07-12T15:56:08.634554Z",
     "shell.execute_reply": "2024-07-12T15:56:08.633581Z",
     "shell.execute_reply.started": "2024-07-12T15:56:08.622603Z"
    }
   },
   "outputs": [
    {
     "data": {
      "text/plain": [
       "49529"
      ]
     },
     "execution_count": 15,
     "metadata": {},
     "output_type": "execute_result"
    }
   ],
   "source": [
    "vocab_size"
   ]
  },
  {
   "cell_type": "code",
   "execution_count": 16,
   "metadata": {
    "execution": {
     "iopub.execute_input": "2024-07-12T15:56:08.635803Z",
     "iopub.status.busy": "2024-07-12T15:56:08.635517Z",
     "iopub.status.idle": "2024-07-12T15:56:08.646327Z",
     "shell.execute_reply": "2024-07-12T15:56:08.645457Z",
     "shell.execute_reply.started": "2024-07-12T15:56:08.635780Z"
    }
   },
   "outputs": [],
   "source": [
    "#df_sample['question1_cleaned'][0]"
   ]
  },
  {
   "cell_type": "code",
   "execution_count": 17,
   "metadata": {
    "execution": {
     "iopub.execute_input": "2024-07-12T15:56:08.647500Z",
     "iopub.status.busy": "2024-07-12T15:56:08.647260Z",
     "iopub.status.idle": "2024-07-12T15:56:08.656719Z",
     "shell.execute_reply": "2024-07-12T15:56:08.655994Z",
     "shell.execute_reply.started": "2024-07-12T15:56:08.647480Z"
    }
   },
   "outputs": [],
   "source": [
    "#sequences_1[0]"
   ]
  },
  {
   "cell_type": "markdown",
   "metadata": {},
   "source": [
    "#### Analyze the Distribution of Sequence Lengths"
   ]
  },
  {
   "cell_type": "code",
   "execution_count": 18,
   "metadata": {
    "execution": {
     "iopub.execute_input": "2024-07-12T15:56:08.658055Z",
     "iopub.status.busy": "2024-07-12T15:56:08.657772Z",
     "iopub.status.idle": "2024-07-12T15:56:08.688252Z",
     "shell.execute_reply": "2024-07-12T15:56:08.687390Z",
     "shell.execute_reply.started": "2024-07-12T15:56:08.658032Z"
    }
   },
   "outputs": [],
   "source": [
    "# Example sequences (replace with your actual sequences)\n",
    "sequences = sequences_1 + sequences_2\n",
    "\n",
    "# Compute lengths of sequences\n",
    "sequence_lengths = [len(seq) for seq in sequences]"
   ]
  },
  {
   "cell_type": "code",
   "execution_count": 19,
   "metadata": {
    "execution": {
     "iopub.execute_input": "2024-07-12T15:56:08.689674Z",
     "iopub.status.busy": "2024-07-12T15:56:08.689339Z",
     "iopub.status.idle": "2024-07-12T15:56:08.709336Z",
     "shell.execute_reply": "2024-07-12T15:56:08.708407Z",
     "shell.execute_reply.started": "2024-07-12T15:56:08.689643Z"
    }
   },
   "outputs": [
    {
     "data": {
      "text/plain": [
       "(99999, 99999, 199998)"
      ]
     },
     "execution_count": 19,
     "metadata": {},
     "output_type": "execute_result"
    }
   ],
   "source": [
    "len(sequences_1),len(sequences_2),len(sequences)"
   ]
  },
  {
   "cell_type": "code",
   "execution_count": 20,
   "metadata": {
    "execution": {
     "iopub.execute_input": "2024-07-12T15:56:08.710631Z",
     "iopub.status.busy": "2024-07-12T15:56:08.710342Z",
     "iopub.status.idle": "2024-07-12T15:56:10.511076Z",
     "shell.execute_reply": "2024-07-12T15:56:10.510172Z",
     "shell.execute_reply.started": "2024-07-12T15:56:08.710607Z"
    }
   },
   "outputs": [
    {
     "data": {
      "image/png": "[encoded data removed]",
      "text/plain": [
       "<Figure size 640x480 with 1 Axes>"
      ]
     },
     "metadata": {},
     "output_type": "display_data"
    }
   ],
   "source": [
    "# Plot the distribution of sequence lengths\n",
    "sns.histplot(sequence_lengths, bins=50, kde=True, color='blue', alpha=0.7)\n",
    "plt.xlabel('Sequence Length')\n",
    "plt.ylabel('Frequency')\n",
    "plt.title('Distribution of Sequence Lengths')\n",
    "plt.show()\n"
   ]
  },
  {
   "cell_type": "code",
   "execution_count": 21,
   "metadata": {
    "execution": {
     "iopub.execute_input": "2024-07-12T15:56:10.512521Z",
     "iopub.status.busy": "2024-07-12T15:56:10.512224Z",
     "iopub.status.idle": "2024-07-12T15:56:10.570982Z",
     "shell.execute_reply": "2024-07-12T15:56:10.570168Z",
     "shell.execute_reply.started": "2024-07-12T15:56:10.512494Z"
    }
   },
   "outputs": [
    {
     "name": "stdout",
     "output_type": "stream",
     "text": [
      "Average sequence length: 11.15059150591506\n",
      "Median sequence length: 10.0\n",
      "95th percentile length: 28.0\n"
     ]
    }
   ],
   "source": [
    "# Print some statistics\n",
    "print(f\"Average sequence length: {np.mean(sequence_lengths)}\")\n",
    "print(f\"Median sequence length: {np.median(sequence_lengths)}\")\n",
    "print(f\"95th percentile length: {np.percentile(sequence_lengths, 98)}\")"
   ]
  },
  {
   "cell_type": "code",
   "execution_count": 22,
   "metadata": {
    "execution": {
     "iopub.execute_input": "2024-07-12T15:56:10.572424Z",
     "iopub.status.busy": "2024-07-12T15:56:10.572122Z",
     "iopub.status.idle": "2024-07-12T15:56:11.464165Z",
     "shell.execute_reply": "2024-07-12T15:56:11.463299Z",
     "shell.execute_reply.started": "2024-07-12T15:56:10.572399Z"
    }
   },
   "outputs": [],
   "source": [
    "# Pad the sequences\n",
    "max_len = 30\n",
    "x1 = pad_sequences(sequences_1, maxlen=max_len)\n",
    "x2 = pad_sequences(sequences_2, maxlen=max_len)\n",
    "\n",
    "x = np.concatenate((x1,x2),axis = 1)\n",
    "\n",
    "# Create the target variable\n",
    "y = df_sample['is_duplicate'].values\n",
    "\n",
    "# Split the data into training and validation sets\n",
    "x_train,x_test,y_train,y_test = train_test_split(x, y, test_size=0.3,shuffle=True,stratify=y,\n",
    "                                                 random_state=42)"
   ]
  },
  {
   "cell_type": "code",
   "execution_count": 23,
   "metadata": {
    "execution": {
     "iopub.execute_input": "2024-07-12T15:56:11.465691Z",
     "iopub.status.busy": "2024-07-12T15:56:11.465316Z",
     "iopub.status.idle": "2024-07-12T15:56:11.481337Z",
     "shell.execute_reply": "2024-07-12T15:56:11.480482Z",
     "shell.execute_reply.started": "2024-07-12T15:56:11.465657Z"
    }
   },
   "outputs": [
    {
     "data": {
      "text/plain": [
       "(99999, 60)"
      ]
     },
     "execution_count": 23,
     "metadata": {},
     "output_type": "execute_result"
    }
   ],
   "source": [
    "np.concatenate((x1,x2),axis = 1).shape"
   ]
  },
  {
   "cell_type": "code",
   "execution_count": 24,
   "metadata": {
    "execution": {
     "iopub.execute_input": "2024-07-12T15:56:11.482680Z",
     "iopub.status.busy": "2024-07-12T15:56:11.482388Z",
     "iopub.status.idle": "2024-07-12T15:56:11.486828Z",
     "shell.execute_reply": "2024-07-12T15:56:11.485987Z",
     "shell.execute_reply.started": "2024-07-12T15:56:11.482654Z"
    }
   },
   "outputs": [],
   "source": [
    "# Reshape the target variable to be 2D\n",
    "y_train = y_train.reshape(-1, 1)\n",
    "y_test = y_test.reshape(-1, 1)"
   ]
  },
  {
   "cell_type": "code",
   "execution_count": 25,
   "metadata": {
    "execution": {
     "iopub.execute_input": "2024-07-12T15:56:11.488460Z",
     "iopub.status.busy": "2024-07-12T15:56:11.488194Z",
     "iopub.status.idle": "2024-07-12T15:56:11.499108Z",
     "shell.execute_reply": "2024-07-12T15:56:11.498259Z",
     "shell.execute_reply.started": "2024-07-12T15:56:11.488436Z"
    }
   },
   "outputs": [
    {
     "data": {
      "text/plain": [
       "2"
      ]
     },
     "execution_count": 25,
     "metadata": {},
     "output_type": "execute_result"
    }
   ],
   "source": [
    "y_train.ndim"
   ]
  },
  {
   "cell_type": "code",
   "execution_count": 26,
   "metadata": {
    "execution": {
     "iopub.execute_input": "2024-07-12T15:56:11.500414Z",
     "iopub.status.busy": "2024-07-12T15:56:11.500142Z",
     "iopub.status.idle": "2024-07-12T15:56:11.511167Z",
     "shell.execute_reply": "2024-07-12T15:56:11.510317Z",
     "shell.execute_reply.started": "2024-07-12T15:56:11.500392Z"
    }
   },
   "outputs": [
    {
     "data": {
      "text/plain": [
       "((99999, 30), (99999, 30))"
      ]
     },
     "execution_count": 26,
     "metadata": {},
     "output_type": "execute_result"
    }
   ],
   "source": [
    "x1.shape,x2.shape"
   ]
  },
  {
   "cell_type": "markdown",
   "metadata": {},
   "source": [
    "### Simple RNN"
   ]
  },
  {
   "cell_type": "code",
   "execution_count": 27,
   "metadata": {
    "execution": {
     "iopub.execute_input": "2024-07-12T15:56:11.512564Z",
     "iopub.status.busy": "2024-07-12T15:56:11.512229Z",
     "iopub.status.idle": "2024-07-12T15:56:12.643166Z",
     "shell.execute_reply": "2024-07-12T15:56:12.642262Z",
     "shell.execute_reply.started": "2024-07-12T15:56:11.512531Z"
    }
   },
   "outputs": [
    {
     "name": "stdout",
     "output_type": "stream",
     "text": [
      "Model: \"sequential\"\n",
      "_________________________________________________________________\n",
      " Layer (type)                Output Shape              Param #   \n",
      "=================================================================\n",
      " embedding (Embedding)       (None, 60, 100)           4952900   \n",
      "                                                                 \n",
      " simple_rnn (SimpleRNN)      (None, 128)               29312     \n",
      "                                                                 \n",
      " dense (Dense)               (None, 64)                8256      \n",
      "                                                                 \n",
      " dense_1 (Dense)             (None, 1)                 65        \n",
      "                                                                 \n",
      "=================================================================\n",
      "Total params: 4990533 (19.04 MB)\n",
      "Trainable params: 4990533 (19.04 MB)\n",
      "Non-trainable params: 0 (0.00 Byte)\n",
      "_________________________________________________________________\n",
      "None\n"
     ]
    }
   ],
   "source": [
    "from tensorflow.keras.models import Sequential\n",
    "from tensorflow.keras.layers import Dense, SimpleRNN\n",
    "\n",
    "# Define the RNN model\n",
    "model_rnn = Sequential([\n",
    "    Embedding(input_dim=vocab_size, output_dim=100, input_length=max_len * 2),  # Adjusted input length for concatenated sequences\n",
    "    SimpleRNN(units=128),\n",
    "    Dense(units=64, activation='relu'),\n",
    "    Dense(units=1, activation='sigmoid')\n",
    "])\n",
    "\n",
    "# Create dummy input to build the model\n",
    "dummy_input = np.zeros((1, max_len * 2), dtype=int)\n",
    "model_rnn(dummy_input)\n",
    "\n",
    "# Compile the model\n",
    "model_rnn.compile(optimizer='adam', loss='binary_crossentropy', \n",
    "                  metrics=['accuracy','f1_score','precision','recall'])\n",
    "\n",
    "# Print model summary\n",
    "print(model_rnn.summary())"
   ]
  },
  {
   "cell_type": "code",
   "execution_count": 28,
   "metadata": {
    "execution": {
     "iopub.execute_input": "2024-07-12T15:56:12.644614Z",
     "iopub.status.busy": "2024-07-12T15:56:12.644314Z",
     "iopub.status.idle": "2024-07-12T15:56:12.649316Z",
     "shell.execute_reply": "2024-07-12T15:56:12.647748Z",
     "shell.execute_reply.started": "2024-07-12T15:56:12.644587Z"
    }
   },
   "outputs": [],
   "source": [
    "# Train the model\n",
    "#model_rnn.fit(x_train, y_train, epochs=10, batch_size=32,validation_split=0.2)"
   ]
  },
  {
   "cell_type": "markdown",
   "metadata": {},
   "source": [
    "### LSTM"
   ]
  },
  {
   "cell_type": "code",
   "execution_count": 29,
   "metadata": {
    "execution": {
     "iopub.execute_input": "2024-07-12T15:56:12.650794Z",
     "iopub.status.busy": "2024-07-12T15:56:12.650524Z",
     "iopub.status.idle": "2024-07-12T15:56:13.150156Z",
     "shell.execute_reply": "2024-07-12T15:56:13.149236Z",
     "shell.execute_reply.started": "2024-07-12T15:56:12.650767Z"
    }
   },
   "outputs": [
    {
     "name": "stdout",
     "output_type": "stream",
     "text": [
      "Model: \"sequential_1\"\n",
      "_________________________________________________________________\n",
      " Layer (type)                Output Shape              Param #   \n",
      "=================================================================\n",
      " embedding_1 (Embedding)     (None, 60, 100)           4952900   \n",
      "                                                                 \n",
      " lstm (LSTM)                 (None, 128)               117248    \n",
      "                                                                 \n",
      " dense_2 (Dense)             (None, 64)                8256      \n",
      "                                                                 \n",
      " dense_3 (Dense)             (None, 1)                 65        \n",
      "                                                                 \n",
      "=================================================================\n",
      "Total params: 5078469 (19.37 MB)\n",
      "Trainable params: 5078469 (19.37 MB)\n",
      "Non-trainable params: 0 (0.00 Byte)\n",
      "_________________________________________________________________\n",
      "None\n"
     ]
    }
   ],
   "source": [
    "from tensorflow.keras.models import Sequential\n",
    "from tensorflow.keras.layers import Dense, LSTM\n",
    "\n",
    "# Define the LSTM model\n",
    "model_lstm = Sequential([\n",
    "    Embedding(input_dim=vocab_size, output_dim=100, input_length=max_len * 2),\n",
    "    LSTM(units=128),\n",
    "    Dense(units=64, activation='relu'),\n",
    "    Dense(units=1, activation='sigmoid')\n",
    "])\n",
    "\n",
    "# Create dummy input to build the model\n",
    "dummy_input = np.zeros((1, max_len * 2), dtype=int)\n",
    "model_lstm(dummy_input)\n",
    "\n",
    "# Compile the model\n",
    "model_lstm.compile(optimizer='adam', loss='binary_crossentropy',\n",
    "                   metrics=['accuracy','f1_score','precision','recall'])\n",
    "\n",
    "# Print model summary\n",
    "print(model_lstm.summary())\n"
   ]
  },
  {
   "cell_type": "code",
   "execution_count": 30,
   "metadata": {
    "execution": {
     "iopub.execute_input": "2024-07-12T15:56:13.151963Z",
     "iopub.status.busy": "2024-07-12T15:56:13.151434Z",
     "iopub.status.idle": "2024-07-12T15:56:13.156390Z",
     "shell.execute_reply": "2024-07-12T15:56:13.155301Z",
     "shell.execute_reply.started": "2024-07-12T15:56:13.151906Z"
    }
   },
   "outputs": [],
   "source": [
    "# Train the model\n",
    "#model_lstm.fit(x_train, y_train, epochs=10, batch_size=32, validation_split=0.2)"
   ]
  },
  {
   "cell_type": "markdown",
   "metadata": {},
   "source": [
    "### GRU"
   ]
  },
  {
   "cell_type": "code",
   "execution_count": 31,
   "metadata": {
    "execution": {
     "iopub.execute_input": "2024-07-12T15:56:13.157969Z",
     "iopub.status.busy": "2024-07-12T15:56:13.157585Z",
     "iopub.status.idle": "2024-07-12T15:56:13.461865Z",
     "shell.execute_reply": "2024-07-12T15:56:13.460622Z",
     "shell.execute_reply.started": "2024-07-12T15:56:13.157915Z"
    }
   },
   "outputs": [
    {
     "name": "stdout",
     "output_type": "stream",
     "text": [
      "Model: \"sequential_2\"\n",
      "_________________________________________________________________\n",
      " Layer (type)                Output Shape              Param #   \n",
      "=================================================================\n",
      " embedding_2 (Embedding)     (None, 60, 100)           4952900   \n",
      "                                                                 \n",
      " gru (GRU)                   (None, 128)               88320     \n",
      "                                                                 \n",
      " dense_4 (Dense)             (None, 64)                8256      \n",
      "                                                                 \n",
      " dense_5 (Dense)             (None, 1)                 65        \n",
      "                                                                 \n",
      "=================================================================\n",
      "Total params: 5049541 (19.26 MB)\n",
      "Trainable params: 5049541 (19.26 MB)\n",
      "Non-trainable params: 0 (0.00 Byte)\n",
      "_________________________________________________________________\n",
      "None\n"
     ]
    }
   ],
   "source": [
    "from tensorflow.keras.models import Sequential\n",
    "from tensorflow.keras.layers import Dense, GRU\n",
    "\n",
    "# Define the LSTM model\n",
    "model_gru = Sequential([\n",
    "    Embedding(input_dim=vocab_size, output_dim=100, input_length=max_len * 2),\n",
    "    GRU(units=128),\n",
    "    Dense(units=64, activation='relu'),\n",
    "    Dense(units=1, activation='sigmoid')\n",
    "])\n",
    "\n",
    "# Create dummy input to build the model\n",
    "dummy_input = np.zeros((1, max_len * 2), dtype=int)\n",
    "model_gru(dummy_input)\n",
    "\n",
    "# Compile the model\n",
    "model_gru.compile(optimizer='adam', loss='binary_crossentropy', \n",
    "                   metrics=['accuracy','f1_score','precision','recall'])\n",
    "\n",
    "# Print model summary\n",
    "print(model_gru.summary())\n"
   ]
  },
  {
   "cell_type": "code",
   "execution_count": 32,
   "metadata": {
    "execution": {
     "iopub.execute_input": "2024-07-12T15:56:13.463407Z",
     "iopub.status.busy": "2024-07-12T15:56:13.463114Z",
     "iopub.status.idle": "2024-07-12T15:56:13.467512Z",
     "shell.execute_reply": "2024-07-12T15:56:13.466459Z",
     "shell.execute_reply.started": "2024-07-12T15:56:13.463381Z"
    }
   },
   "outputs": [],
   "source": [
    "# Train the model\n",
    "#model_gru.fit(x_train, y_train, epochs=10, batch_size=32, validation_split=0.2)"
   ]
  },
  {
   "cell_type": "markdown",
   "metadata": {},
   "source": [
    "### Hyperparameter tuning"
   ]
  },
  {
   "cell_type": "code",
   "execution_count": 33,
   "metadata": {
    "execution": {
     "iopub.execute_input": "2024-07-12T15:56:13.469324Z",
     "iopub.status.busy": "2024-07-12T15:56:13.468987Z",
     "iopub.status.idle": "2024-07-12T15:56:26.256686Z",
     "shell.execute_reply": "2024-07-12T15:56:26.255696Z",
     "shell.execute_reply.started": "2024-07-12T15:56:13.469293Z"
    }
   },
   "outputs": [
    {
     "name": "stdout",
     "output_type": "stream",
     "text": [
      "Requirement already satisfied: keras-tuner in /opt/conda/lib/python3.10/site-packages (1.4.6)\n",
      "Collecting keras-tuner\n",
      "  Downloading keras_tuner-1.4.7-py3-none-any.whl.metadata (5.4 kB)\n",
      "Requirement already satisfied: keras in /opt/conda/lib/python3.10/site-packages (from keras-tuner) (2.15.0)\n",
      "Requirement already satisfied: packaging in /opt/conda/lib/python3.10/site-packages (from keras-tuner) (21.3)\n",
      "Requirement already satisfied: requests in /opt/conda/lib/python3.10/site-packages (from keras-tuner) (2.32.3)\n",
      "Requirement already satisfied: kt-legacy in /opt/conda/lib/python3.10/site-packages (from keras-tuner) (1.0.5)\n",
      "Requirement already satisfied: pyparsing!=3.0.5,>=2.0.2 in /opt/conda/lib/python3.10/site-packages (from packaging->keras-tuner) (3.1.1)\n",
      "Requirement already satisfied: charset-normalizer<4,>=2 in /opt/conda/lib/python3.10/site-packages (from requests->keras-tuner) (3.3.2)\n",
      "Requirement already satisfied: idna<4,>=2.5 in /opt/conda/lib/python3.10/site-packages (from requests->keras-tuner) (3.6)\n",
      "Requirement already satisfied: urllib3<3,>=1.21.1 in /opt/conda/lib/python3.10/site-packages (from requests->keras-tuner) (1.26.18)\n",
      "Requirement already satisfied: certifi>=2017.4.17 in /opt/conda/lib/python3.10/site-packages (from requests->keras-tuner) (2024.2.2)\n",
      "Downloading keras_tuner-1.4.7-py3-none-any.whl (129 kB)\n",
      "\u001b[2K   \u001b[90m━━━━━━━━━━━━━━━━━━━━━━━━━━━━━━━━━━━━━━━━\u001b[0m \u001b[32m129.1/129.1 kB\u001b[0m \u001b[31m1.4 MB/s\u001b[0m eta \u001b[36m0:00:00\u001b[0ma \u001b[36m0:00:01\u001b[0mm\n",
      "\u001b[?25hInstalling collected packages: keras-tuner\n",
      "  Attempting uninstall: keras-tuner\n",
      "    Found existing installation: keras-tuner 1.4.6\n",
      "    Uninstalling keras-tuner-1.4.6:\n",
      "      Successfully uninstalled keras-tuner-1.4.6\n",
      "Successfully installed keras-tuner-1.4.7\n"
     ]
    }
   ],
   "source": [
    "!pip install keras-tuner --upgrade\n"
   ]
  },
  {
   "cell_type": "code",
   "execution_count": 34,
   "metadata": {
    "execution": {
     "iopub.execute_input": "2024-07-12T15:56:26.258476Z",
     "iopub.status.busy": "2024-07-12T15:56:26.258146Z",
     "iopub.status.idle": "2024-07-12T15:56:26.296745Z",
     "shell.execute_reply": "2024-07-12T15:56:26.296063Z",
     "shell.execute_reply.started": "2024-07-12T15:56:26.258446Z"
    }
   },
   "outputs": [],
   "source": [
    "from kerastuner import HyperModel, RandomSearch\n",
    "from tensorflow.keras.layers import Input, Embedding\n",
    "from tensorflow.keras.optimizers import Adam\n",
    "from tensorflow.keras import backend as K"
   ]
  },
  {
   "cell_type": "markdown",
   "metadata": {},
   "source": [
    "### Define custom F1 metric"
   ]
  },
  {
   "cell_type": "code",
   "execution_count": 35,
   "metadata": {
    "execution": {
     "iopub.execute_input": "2024-07-12T15:56:26.298167Z",
     "iopub.status.busy": "2024-07-12T15:56:26.297810Z",
     "iopub.status.idle": "2024-07-12T15:56:26.306144Z",
     "shell.execute_reply": "2024-07-12T15:56:26.304989Z",
     "shell.execute_reply.started": "2024-07-12T15:56:26.298143Z"
    }
   },
   "outputs": [],
   "source": [
    "import keras.backend as K\n",
    "\n",
    "def f1_score(y_true, y_pred):\n",
    "    def recall(y_true, y_pred):\n",
    "        true_positives = K.sum(K.round(K.clip(y_true * y_pred, 0, 1)))\n",
    "        possible_positives = K.sum(K.round(K.clip(y_true, 0, 1)))\n",
    "        recall = true_positives / (possible_positives + K.epsilon())\n",
    "        return recall\n",
    "\n",
    "    def precision(y_true, y_pred):\n",
    "        true_positives = K.sum(K.round(K.clip(y_true * y_pred, 0, 1)))\n",
    "        predicted_positives = K.sum(K.round(K.clip(y_pred, 0, 1)))\n",
    "        precision = true_positives / (predicted_positives + K.epsilon())\n",
    "        return precision\n",
    "\n",
    "    precision_value = precision(y_true, y_pred)\n",
    "    recall_value = recall(y_true, y_pred)\n",
    "    f1_score_value = 2 * ((precision_value * recall_value) / (precision_value + recall_value + K.epsilon()))\n",
    "    return f1_score_value\n"
   ]
  },
  {
   "cell_type": "markdown",
   "metadata": {},
   "source": [
    "### RNN Hyper model"
   ]
  },
  {
   "cell_type": "code",
   "execution_count": 36,
   "metadata": {
    "execution": {
     "iopub.execute_input": "2024-07-12T15:56:26.307452Z",
     "iopub.status.busy": "2024-07-12T15:56:26.307188Z",
     "iopub.status.idle": "2024-07-12T15:56:26.321435Z",
     "shell.execute_reply": "2024-07-12T15:56:26.320595Z",
     "shell.execute_reply.started": "2024-07-12T15:56:26.307430Z"
    }
   },
   "outputs": [],
   "source": [
    "\n",
    "from tensorflow.keras.optimizers import Adam\n",
    "from tensorflow.keras.metrics import Precision, Recall\n",
    "from tensorflow.keras.losses import BinaryCrossentropy\n",
    "from kerastuner import HyperModel\n",
    "from kerastuner.tuners import RandomSearch\n",
    "from keras_tuner import Objective\n",
    "from tensorflow.keras.callbacks import EarlyStopping\n",
    "\n",
    "\n",
    "class RNNHyperModel(HyperModel):\n",
    "    def __init__(self, max_len, max_vocab):\n",
    "        self.max_len = max_len\n",
    "        self.max_vocab = max_vocab\n",
    "\n",
    "    def build(self, hp):\n",
    "        model = Sequential()\n",
    "        model.add(Embedding(input_dim=self.max_vocab, output_dim=100, input_length=self.max_len * 2))\n",
    "        model.add(SimpleRNN(units=hp.Int('units', min_value=32, max_value=512, step=32)))\n",
    "        model.add(Dense(units=hp.Int('dense_units', min_value=32, max_value=512, step=32),\n",
    "                        activation='relu'))\n",
    "        model.add(Dense(1, activation='sigmoid'))\n",
    "        \n",
    "        model.compile(optimizer=Adam(hp.Choice('learning_rate', values=[1e-2, 1e-3, 1e-4])),\n",
    "                      loss='binary_crossentropy',\n",
    "                      metrics=['accuracy',Precision(), Recall(), f1_score])\n",
    "        \n",
    "        return model\n"
   ]
  },
  {
   "cell_type": "markdown",
   "metadata": {},
   "source": [
    "### LSTM Hypermodel"
   ]
  },
  {
   "cell_type": "code",
   "execution_count": 37,
   "metadata": {
    "execution": {
     "iopub.execute_input": "2024-07-12T15:56:26.322825Z",
     "iopub.status.busy": "2024-07-12T15:56:26.322498Z",
     "iopub.status.idle": "2024-07-12T15:56:26.335020Z",
     "shell.execute_reply": "2024-07-12T15:56:26.334141Z",
     "shell.execute_reply.started": "2024-07-12T15:56:26.322794Z"
    }
   },
   "outputs": [],
   "source": [
    "class LSTMHyperModel(HyperModel):\n",
    "    def __init__(self, max_len, max_vocab):\n",
    "        self.max_len = max_len\n",
    "        self.max_vocab = max_vocab\n",
    "\n",
    "    def build(self, hp):\n",
    "        model = Sequential()\n",
    "        model.add(Embedding(input_dim=self.max_vocab, output_dim=100, input_length=self.max_len * 2))\n",
    "        model.add(LSTM(units=hp.Int('units', min_value=32, max_value=512, step=32)))\n",
    "        model.add(Dense(units=hp.Int('dense_units', min_value=32, max_value=512, step=32),\n",
    "                        activation='relu'))\n",
    "        model.add(Dense(1, activation='sigmoid'))\n",
    "        \n",
    "        model.compile(optimizer=Adam(hp.Choice('learning_rate', values=[1e-2, 1e-3, 1e-4])),\n",
    "                      loss='binary_crossentropy',\n",
    "                      metrics=['accuracy',Precision(), Recall(), f1_score])\n",
    "        \n",
    "        return model\n"
   ]
  },
  {
   "cell_type": "markdown",
   "metadata": {},
   "source": [
    "### GRU Hypermodel"
   ]
  },
  {
   "cell_type": "code",
   "execution_count": 38,
   "metadata": {
    "execution": {
     "iopub.execute_input": "2024-07-12T15:56:26.336222Z",
     "iopub.status.busy": "2024-07-12T15:56:26.335956Z",
     "iopub.status.idle": "2024-07-12T15:56:26.350985Z",
     "shell.execute_reply": "2024-07-12T15:56:26.350312Z",
     "shell.execute_reply.started": "2024-07-12T15:56:26.336200Z"
    }
   },
   "outputs": [],
   "source": [
    "class GRUHyperModel(HyperModel):\n",
    "    def __init__(self, max_len, max_vocab):\n",
    "        self.max_len = max_len\n",
    "        self.max_vocab = max_vocab\n",
    "\n",
    "    def build(self, hp):\n",
    "        model = Sequential()\n",
    "        model.add(Embedding(input_dim=self.max_vocab, output_dim=100, input_length=self.max_len * 2))\n",
    "        model.add(GRU(units=hp.Int('units', min_value=32, max_value=512, step=32)))\n",
    "        model.add(Dense(units=hp.Int('dense_units', min_value=32, max_value=512, step=32),\n",
    "                        activation='relu'))\n",
    "        model.add(Dense(1, activation='sigmoid'))\n",
    "        \n",
    "        model.compile(optimizer=Adam(hp.Choice('learning_rate', values=[1e-2, 1e-3, 1e-4])),\n",
    "                      loss='binary_crossentropy',\n",
    "                      metrics=['accuracy',Precision(), Recall(), f1_score])\n",
    "        \n",
    "        return model\n"
   ]
  },
  {
   "cell_type": "code",
   "execution_count": 39,
   "metadata": {
    "execution": {
     "iopub.execute_input": "2024-07-12T15:56:26.352794Z",
     "iopub.status.busy": "2024-07-12T15:56:26.352387Z",
     "iopub.status.idle": "2024-07-12T15:56:26.908371Z",
     "shell.execute_reply": "2024-07-12T15:56:26.907368Z",
     "shell.execute_reply.started": "2024-07-12T15:56:26.352763Z"
    }
   },
   "outputs": [
    {
     "name": "stdout",
     "output_type": "stream",
     "text": [
      "Reloading Tuner from /kaggle/working/rnn_hyperparameter_tuning/tuner0.json\n"
     ]
    }
   ],
   "source": [
    "\n",
    "\n",
    "# Assuming you have max_len and max_vocab defined\n",
    "max_len = 30\n",
    "max_vocab = vocab_size\n",
    "\n",
    "# Instantiate hypermodel classes\n",
    "rnn_hypermodel = RNNHyperModel(max_len, max_vocab)\n",
    "lstm_hypermodel = LSTMHyperModel(max_len, max_vocab)\n",
    "gru_hypermodel = GRUHyperModel(max_len, max_vocab)\n",
    "\n",
    "# Define the tuner (example: RandomSearch)\n",
    "tuner_rnn = RandomSearch(\n",
    "    rnn_hypermodel,\n",
    "    #objective='val_precision',\n",
    "    objective=Objective(\"val_f1_score\", direction=\"max\"),\n",
    "    max_trials=10,\n",
    "    directory='/kaggle/working',\n",
    "    project_name='rnn_hyperparameter_tuning')\n",
    "\n",
    "tuner_lstm = RandomSearch(\n",
    "    lstm_hypermodel,\n",
    "    #objective='val_precision',\n",
    "    objective=Objective(\"val_f1_score\", direction=\"max\"),\n",
    "    max_trials=10,\n",
    "    directory='/kaggle/working',\n",
    "    project_name='lstm_hyperparameter_tuning')\n",
    "\n",
    "tuner_gru = RandomSearch(\n",
    "    gru_hypermodel,\n",
    "    #objective='val_precision',\n",
    "    objective=Objective(\"val_f1_score\", direction=\"max\"),\n",
    "    max_trials=10,\n",
    "    directory='/kaggle/working',\n",
    "    project_name='gru_hyperparameter_tuning')\n"
   ]
  },
  {
   "cell_type": "code",
   "execution_count": 40,
   "metadata": {
    "execution": {
     "iopub.execute_input": "2024-07-12T15:56:26.915016Z",
     "iopub.status.busy": "2024-07-12T15:56:26.914728Z",
     "iopub.status.idle": "2024-07-12T15:56:26.919433Z",
     "shell.execute_reply": "2024-07-12T15:56:26.918489Z",
     "shell.execute_reply.started": "2024-07-12T15:56:26.914992Z"
    }
   },
   "outputs": [],
   "source": [
    "# Early stopping to prevent overfitting\n",
    "early_stopping = EarlyStopping(monitor='val_loss', patience=5, restore_best_weights=True)"
   ]
  },
  {
   "cell_type": "code",
   "execution_count": 41,
   "metadata": {
    "execution": {
     "iopub.execute_input": "2024-07-12T15:56:26.920762Z",
     "iopub.status.busy": "2024-07-12T15:56:26.920404Z",
     "iopub.status.idle": "2024-07-12T17:18:51.664611Z",
     "shell.execute_reply": "2024-07-12T17:18:51.663704Z",
     "shell.execute_reply.started": "2024-07-12T15:56:26.920728Z"
    }
   },
   "outputs": [
    {
     "name": "stdout",
     "output_type": "stream",
     "text": [
      "Trial 10 Complete [00h 10m 44s]\n",
      "val_f1_score: 0.5933147668838501\n",
      "\n",
      "Best val_f1_score So Far: 0.6257361769676208\n",
      "Total elapsed time: 01h 36m 08s\n"
     ]
    }
   ],
   "source": [
    "# Perform the hyperparameter search for RNN\n",
    "tuner_rnn.search(x_train, y_train, epochs=10,validation_split = 0.2,batch_size=32,\n",
    "                 callbacks=[early_stopping])"
   ]
  },
  {
   "cell_type": "code",
   "execution_count": 42,
   "metadata": {
    "execution": {
     "iopub.execute_input": "2024-07-12T17:18:51.666312Z",
     "iopub.status.busy": "2024-07-12T17:18:51.665922Z",
     "iopub.status.idle": "2024-07-12T17:40:28.635968Z",
     "shell.execute_reply": "2024-07-12T17:40:28.635020Z",
     "shell.execute_reply.started": "2024-07-12T17:18:51.666278Z"
    }
   },
   "outputs": [
    {
     "name": "stdout",
     "output_type": "stream",
     "text": [
      "Trial 10 Complete [00h 02m 09s]\n",
      "val_f1_score: 0.6400063037872314\n",
      "\n",
      "Best val_f1_score So Far: 0.6458404660224915\n",
      "Total elapsed time: 00h 21m 37s\n"
     ]
    }
   ],
   "source": [
    "# Perform the hyperparameter search for LSTM\n",
    "tuner_lstm.search(x_train, y_train, epochs=10, validation_split = 0.2,callbacks=[early_stopping])"
   ]
  },
  {
   "cell_type": "code",
   "execution_count": 43,
   "metadata": {
    "execution": {
     "iopub.execute_input": "2024-07-12T17:40:28.637796Z",
     "iopub.status.busy": "2024-07-12T17:40:28.637309Z",
     "iopub.status.idle": "2024-07-12T18:03:43.745810Z",
     "shell.execute_reply": "2024-07-12T18:03:43.744788Z",
     "shell.execute_reply.started": "2024-07-12T17:40:28.637758Z"
    }
   },
   "outputs": [
    {
     "name": "stdout",
     "output_type": "stream",
     "text": [
      "Trial 10 Complete [00h 03m 09s]\n",
      "val_f1_score: 0.6308324337005615\n",
      "\n",
      "Best val_f1_score So Far: 0.6409258842468262\n",
      "Total elapsed time: 00h 23m 15s\n"
     ]
    }
   ],
   "source": [
    "# Perform the hyperparameter search for GRU\n",
    "tuner_gru.search(x_train, y_train, epochs=10, validation_split = 0.2,callbacks=[early_stopping])"
   ]
  },
  {
   "cell_type": "code",
   "execution_count": 44,
   "metadata": {
    "execution": {
     "iopub.execute_input": "2024-07-12T18:03:43.747554Z",
     "iopub.status.busy": "2024-07-12T18:03:43.747185Z",
     "iopub.status.idle": "2024-07-12T18:04:45.243783Z",
     "shell.execute_reply": "2024-07-12T18:04:45.242993Z",
     "shell.execute_reply.started": "2024-07-12T18:03:43.747520Z"
    }
   },
   "outputs": [],
   "source": [
    "# Get the best model\n",
    "best_model_rnn = tuner_rnn.get_best_models(num_models=1)[0]\n",
    "best_model_lstm = tuner_lstm.get_best_models(num_models=1)[0]\n",
    "best_model_gru = tuner_gru.get_best_models(num_models=1)[0]\n",
    "\n",
    "# Save the best model\n",
    "best_model_rnn.save('/kaggle/working/best_model_rnn.h5')  # Save the model in the working directory\n",
    "best_model_lstm.save('/kaggle/working/best_model_lstm.h5') \n",
    "best_model_gru.save('/kaggle/working/best_model_gru.h5') \n"
   ]
  },
  {
   "cell_type": "code",
   "execution_count": 46,
   "metadata": {
    "execution": {
     "iopub.execute_input": "2024-07-12T18:06:51.749227Z",
     "iopub.status.busy": "2024-07-12T18:06:51.748844Z",
     "iopub.status.idle": "2024-07-12T18:06:51.753862Z",
     "shell.execute_reply": "2024-07-12T18:06:51.752948Z",
     "shell.execute_reply.started": "2024-07-12T18:06:51.749195Z"
    }
   },
   "outputs": [],
   "source": [
    "# Register the custom metric function with Keras\n",
    "from tensorflow.keras.utils import get_custom_objects\n",
    "get_custom_objects().update({'f1_score': f1_score})"
   ]
  },
  {
   "cell_type": "code",
   "execution_count": 47,
   "metadata": {
    "execution": {
     "iopub.execute_input": "2024-07-12T18:06:53.983269Z",
     "iopub.status.busy": "2024-07-12T18:06:53.982666Z",
     "iopub.status.idle": "2024-07-12T18:07:10.630862Z",
     "shell.execute_reply": "2024-07-12T18:07:10.630050Z",
     "shell.execute_reply.started": "2024-07-12T18:06:53.983237Z"
    }
   },
   "outputs": [
    {
     "name": "stdout",
     "output_type": "stream",
     "text": [
      "938/938 [==============================] - 7s 7ms/step - loss: 0.6744 - accuracy: 0.6955 - precision: 0.5712 - recall: 0.6906 - f1_score: 0.6161\n",
      "938/938 [==============================] - 4s 4ms/step - loss: 0.5796 - accuracy: 0.6973 - precision: 0.5664 - recall: 0.7549 - f1_score: 0.6392\n",
      "938/938 [==============================] - 4s 4ms/step - loss: 0.5660 - accuracy: 0.7260 - precision: 0.6197 - recall: 0.6604 - f1_score: 0.6302\n"
     ]
    },
    {
     "data": {
      "text/plain": [
       "[0.5660455226898193,\n",
       " 0.7260000109672546,\n",
       " 0.6197279095649719,\n",
       " 0.6603841781616211,\n",
       " 0.630239725112915]"
      ]
     },
     "execution_count": 47,
     "metadata": {},
     "output_type": "execute_result"
    }
   ],
   "source": [
    "from tensorflow.keras.models import load_model\n",
    "\n",
    "# Load the saved model\n",
    "best_model_saved_rnn = load_model('/kaggle/working/best_model_rnn.h5')\n",
    "best_model_saved_lstm = load_model('/kaggle/working/best_model_lstm.h5')\n",
    "best_model_saved_gru = load_model('/kaggle/working/best_model_gru.h5')\n",
    "\n",
    "\n",
    "# Evaluate the best models\n",
    "best_model_saved_rnn.evaluate(x_test, y_test)\n",
    "best_model_saved_lstm.evaluate(x_test, y_test)\n",
    "best_model_saved_gru.evaluate(x_test, y_test)\n"
   ]
  },
  {
   "cell_type": "code",
   "execution_count": 48,
   "metadata": {
    "execution": {
     "iopub.execute_input": "2024-07-12T18:07:16.656276Z",
     "iopub.status.busy": "2024-07-12T18:07:16.655888Z",
     "iopub.status.idle": "2024-07-12T18:07:28.283756Z",
     "shell.execute_reply": "2024-07-12T18:07:28.282760Z",
     "shell.execute_reply.started": "2024-07-12T18:07:16.656247Z"
    }
   },
   "outputs": [
    {
     "name": "stdout",
     "output_type": "stream",
     "text": [
      "938/938 [==============================] - 5s 6ms/step\n",
      "938/938 [==============================] - 3s 2ms/step\n",
      "938/938 [==============================] - 2s 2ms/step\n"
     ]
    }
   ],
   "source": [
    "# Make predictions\n",
    "y_test_prob_predict_rnn = best_model_saved_rnn.predict(x_test)\n",
    "y_test_prob_predict_lstm = best_model_saved_lstm.predict(x_test)\n",
    "y_test_prob_predict_gru = best_model_saved_gru.predict(x_test)"
   ]
  },
  {
   "cell_type": "code",
   "execution_count": 49,
   "metadata": {
    "execution": {
     "iopub.execute_input": "2024-07-12T18:07:31.626328Z",
     "iopub.status.busy": "2024-07-12T18:07:31.625937Z",
     "iopub.status.idle": "2024-07-12T18:07:31.632330Z",
     "shell.execute_reply": "2024-07-12T18:07:31.631153Z",
     "shell.execute_reply.started": "2024-07-12T18:07:31.626299Z"
    }
   },
   "outputs": [],
   "source": [
    "y_test_predict_rnn = (y_test_prob_predict_rnn > 0.5).astype(int)\n",
    "y_test_predict_lstm = (y_test_prob_predict_lstm > 0.5).astype(int)\n",
    "y_test_predict_gru = (y_test_prob_predict_gru > 0.5).astype(int)"
   ]
  },
  {
   "cell_type": "code",
   "execution_count": 50,
   "metadata": {
    "execution": {
     "iopub.execute_input": "2024-07-12T18:07:33.332169Z",
     "iopub.status.busy": "2024-07-12T18:07:33.331526Z",
     "iopub.status.idle": "2024-07-12T18:07:33.407825Z",
     "shell.execute_reply": "2024-07-12T18:07:33.406944Z",
     "shell.execute_reply.started": "2024-07-12T18:07:33.332136Z"
    }
   },
   "outputs": [
    {
     "name": "stdout",
     "output_type": "stream",
     "text": [
      "---------------------------------------------------------------------\n",
      "Model Name : RNN\n",
      "---------------------------------------------------------------------\n",
      "              precision    recall  f1-score   support\n",
      "\n",
      "           0       0.80      0.70      0.74     18964\n",
      "           1       0.57      0.69      0.63     11036\n",
      "\n",
      "    accuracy                           0.70     30000\n",
      "   macro avg       0.68      0.69      0.68     30000\n",
      "weighted avg       0.71      0.70      0.70     30000\n",
      "\n",
      "Model Name : LSTM\n",
      "---------------------------------------------------------------------\n",
      "              precision    recall  f1-score   support\n",
      "\n",
      "           0       0.82      0.66      0.73     18964\n",
      "           1       0.57      0.75      0.65     11036\n",
      "\n",
      "    accuracy                           0.70     30000\n",
      "   macro avg       0.69      0.71      0.69     30000\n",
      "weighted avg       0.73      0.70      0.70     30000\n",
      "\n",
      "Model Name : GRU\n",
      "---------------------------------------------------------------------\n",
      "              precision    recall  f1-score   support\n",
      "\n",
      "           0       0.79      0.76      0.78     18964\n",
      "           1       0.62      0.66      0.64     11036\n",
      "\n",
      "    accuracy                           0.73     30000\n",
      "   macro avg       0.71      0.71      0.71     30000\n",
      "weighted avg       0.73      0.73      0.73     30000\n",
      "\n"
     ]
    }
   ],
   "source": [
    "print(\"---------------------------------------------------------------------\")\n",
    "print(\"Model Name : RNN\")\n",
    "print(\"---------------------------------------------------------------------\")\n",
    "print(classification_report(y_test,y_test_predict_rnn))\n",
    "print(\"Model Name : LSTM\")\n",
    "print(\"---------------------------------------------------------------------\")\n",
    "print(classification_report(y_test,y_test_predict_lstm))\n",
    "print(\"Model Name : GRU\")\n",
    "print(\"---------------------------------------------------------------------\")\n",
    "print(classification_report(y_test,y_test_predict_gru))"
   ]
  },
  {
   "cell_type": "code",
   "execution_count": null,
   "metadata": {},
   "outputs": [],
   "source": []
  }
 ],
 "metadata": {
  "kaggle": {
   "accelerator": "nvidiaTeslaT4",
   "dataSources": [
    {
     "databundleVersionId": 323734,
     "sourceId": 6277,
     "sourceType": "competition"
    }
   ],
   "dockerImageVersionId": 30732,
   "isGpuEnabled": true,
   "isInternetEnabled": true,
   "language": "python",
   "sourceType": "notebook"
  },
  "kernelspec": {
   "display_name": "Python 3 (ipykernel)",
   "language": "python",
   "name": "python3"
  },
  "language_info": {
   "codemirror_mode": {
    "name": "ipython",
    "version": 3
   },
   "file_extension": ".py",
   "mimetype": "text/x-python",
   "name": "python",
   "nbconvert_exporter": "python",
   "pygments_lexer": "ipython3",
   "version": "3.10.9"
  }
 },
 "nbformat": 4,
 "nbformat_minor": 4
}
